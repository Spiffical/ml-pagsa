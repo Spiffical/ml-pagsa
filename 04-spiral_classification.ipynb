{
  "nbformat": 4,
  "nbformat_minor": 0,
  "metadata": {
    "kernelspec": {
      "display_name": "Python [conda env:pDL] *",
      "language": "python",
      "name": "conda-env-pDL-py"
    },
    "language_info": {
      "codemirror_mode": {
        "name": "ipython",
        "version": 3
      },
      "file_extension": ".py",
      "mimetype": "text/x-python",
      "name": "python",
      "nbconvert_exporter": "python",
      "pygments_lexer": "ipython3",
      "version": "3.8.6"
    },
    "colab": {
      "name": "04-spiral_classification.ipynb",
      "provenance": [],
      "include_colab_link": true
    }
  },
  "cells": [
    {
      "cell_type": "markdown",
      "metadata": {
        "id": "view-in-github",
        "colab_type": "text"
      },
      "source": [
        "<a href=\"https://colab.research.google.com/github/Spiffical/ml-pagsa/blob/main/04-spiral_classification.ipynb\" target=\"_parent\"><img src=\"https://colab.research.google.com/assets/colab-badge.svg\" alt=\"Open In Colab\"/></a>"
      ]
    },
    {
      "cell_type": "markdown",
      "metadata": {
        "id": "yVhMdhNEVooy"
      },
      "source": [
        "### Create the data"
      ]
    },
    {
      "cell_type": "code",
      "metadata": {
        "id": "eZBtNP92Vv__"
      },
      "source": [
        "!git clone https://github.com/Spiffical/ml-pagsa pytorchDeepLearning"
      ],
      "execution_count": null,
      "outputs": []
    },
    {
      "cell_type": "code",
      "metadata": {
        "id": "4cgnhTLXVoo9"
      },
      "source": [
        "import random\n",
        "import torch\n",
        "from torch import nn, optim\n",
        "import math\n",
        "from IPython import display"
      ],
      "execution_count": null,
      "outputs": []
    },
    {
      "cell_type": "code",
      "metadata": {
        "id": "UXbQCXP-Voo_"
      },
      "source": [
        "from pytorchDeepLearning.res.plot_lib import plot_data, plot_model, set_default"
      ],
      "execution_count": null,
      "outputs": []
    },
    {
      "cell_type": "code",
      "metadata": {
        "id": "wl3vbN45VopA"
      },
      "source": [
        "set_default()"
      ],
      "execution_count": null,
      "outputs": []
    },
    {
      "cell_type": "code",
      "metadata": {
        "id": "Bcb0E1rDVopA"
      },
      "source": [
        "device = torch.device(\"cuda:0\" if torch.cuda.is_available() else \"cpu\")"
      ],
      "execution_count": null,
      "outputs": []
    },
    {
      "cell_type": "code",
      "metadata": {
        "id": "fLcboUcOVopB"
      },
      "source": [
        "seed = 12345\n",
        "random.seed(seed)\n",
        "torch.manual_seed(seed)\n",
        "N = 1000  # num_samples_per_class\n",
        "D = 2  # dimensions\n",
        "C = 3  # num_classes\n",
        "H = 500  # num_hidden_units"
      ],
      "execution_count": null,
      "outputs": []
    },
    {
      "cell_type": "code",
      "metadata": {
        "id": "nJ1g4wuwVopB"
      },
      "source": [
        "X = torch.zeros(N * C, D).to(device)\n",
        "y = torch.zeros(N * C, dtype=torch.long).to(device)\n",
        "for c in range(C):\n",
        "    index = 0\n",
        "    t = torch.linspace(0, 1, N)\n",
        "    # When c = 0 and t = 0: start of linspace\n",
        "    # When c = 0 and t = 1: end of linpace\n",
        "    # This inner_var is for the formula inside sin() and cos() like sin(inner_var) and cos(inner_Var)\n",
        "    inner_var = torch.linspace(\n",
        "        # When t = 0\n",
        "        (2 * math.pi / C) * (c),\n",
        "        # When t = 1\n",
        "        (2 * math.pi / C) * (2 + c),\n",
        "        N\n",
        "    ) + torch.randn(N) * 0.2\n",
        "    \n",
        "    for ix in range(N * c, N * (c + 1)):\n",
        "        X[ix] = t[index] * torch.FloatTensor((\n",
        "            math.sin(inner_var[index]), math.cos(inner_var[index])\n",
        "        ))\n",
        "        y[ix] = c\n",
        "        index += 1\n",
        "\n",
        "print(\"Shapes:\")\n",
        "print(\"X:\", tuple(X.size()))\n",
        "print(\"y:\", tuple(y.size()))"
      ],
      "execution_count": null,
      "outputs": []
    },
    {
      "cell_type": "code",
      "metadata": {
        "id": "P-oYtCGNVopE"
      },
      "source": [
        "# visualise the data\n",
        "plot_data(X, y)"
      ],
      "execution_count": null,
      "outputs": []
    },
    {
      "cell_type": "markdown",
      "metadata": {
        "id": "cQZmXWqTVopF"
      },
      "source": [
        "### Linear model"
      ]
    },
    {
      "cell_type": "code",
      "metadata": {
        "id": "m-YLQiYOVopF"
      },
      "source": [
        "learning_rate = 1e-3\n",
        "lambda_l2 = 1e-5"
      ],
      "execution_count": null,
      "outputs": []
    },
    {
      "cell_type": "code",
      "metadata": {
        "id": "XkPMsyQ4VopG"
      },
      "source": [
        "# nn package to create our linear model\n",
        "# each Linear module has a weight and bias\n",
        "model = nn.Sequential(\n",
        "    nn.Linear(D, H),\n",
        "    nn.Linear(H, C)\n",
        ")\n",
        "model.to(device) #Convert to CUDA\n",
        "\n",
        "# nn package also has different loss functions.\n",
        "# we use cross entropy loss for our classification task\n",
        "criterion = torch.nn.CrossEntropyLoss()\n",
        "\n",
        "# we use the optim package to apply\n",
        "# stochastic gradient descent for our parameter updates\n",
        "optimizer = torch.optim.SGD(model.parameters(), lr=learning_rate, weight_decay=lambda_l2) # built-in L2\n",
        "\n",
        "# Training\n",
        "for t in range(1000):\n",
        "    \n",
        "    # Feed forward to get the logits\n",
        "    y_pred = model(X)\n",
        "    \n",
        "    # Compute the loss and accuracy\n",
        "    loss = criterion(y_pred, y)\n",
        "    score, predicted = torch.max(y_pred, 1)\n",
        "    acc = (y == predicted).sum().float() / len(y)\n",
        "    print(\"[EPOCH]: %i, [LOSS]: %.6f, [ACCURACY]: %.3f\" % (t, loss.item(), acc))\n",
        "    display.clear_output(wait=True)\n",
        "    \n",
        "    # zero the gradients before running\n",
        "    # the backward pass.\n",
        "    optimizer.zero_grad()\n",
        "    \n",
        "    # Backward pass to compute the gradient\n",
        "    # of loss w.r.t our learnable params. \n",
        "    loss.backward()\n",
        "    \n",
        "    # Update params\n",
        "    optimizer.step()"
      ],
      "execution_count": null,
      "outputs": []
    },
    {
      "cell_type": "code",
      "metadata": {
        "id": "CdbHJfAcVopb"
      },
      "source": [
        "# Plot trained model\n",
        "print(model)\n",
        "plot_model(X, y, model)"
      ],
      "execution_count": null,
      "outputs": []
    },
    {
      "cell_type": "markdown",
      "metadata": {
        "id": "E1cZyBu4Vopb"
      },
      "source": [
        "### Two-layered network"
      ]
    },
    {
      "cell_type": "code",
      "metadata": {
        "id": "dmZZ_pQIVopc"
      },
      "source": [
        "learning_rate = 1e-3\n",
        "lambda_l2 = 1e-5"
      ],
      "execution_count": null,
      "outputs": []
    },
    {
      "cell_type": "code",
      "metadata": {
        "scrolled": true,
        "id": "sgHUtuieVopc"
      },
      "source": [
        "# nn package to create our linear model\n",
        "# each Linear module has a weight and bias\n",
        "\n",
        "model = nn.Sequential(\n",
        "    nn.Linear(D, H),\n",
        "    nn.LeakyReLU(),\n",
        "    nn.Linear(H, C)\n",
        ")\n",
        "model.to(device)\n",
        "\n",
        "# nn package also has different loss functions.\n",
        "# we use cross entropy loss for our classification task\n",
        "criterion = torch.nn.CrossEntropyLoss()\n",
        "\n",
        "# we use the optim package to apply\n",
        "# ADAM for our parameter updates\n",
        "optimizer = torch.optim.Adam(model.parameters(), lr=learning_rate, weight_decay=lambda_l2) # built-in L2\n",
        "\n",
        "# e = 1.  # plotting purpose\n",
        "\n",
        "# Training\n",
        "for t in range(1000):\n",
        "    \n",
        "    # Feed forward to get the logits\n",
        "    y_pred = model(X)\n",
        "    #print(y)\n",
        "    \n",
        "    # Compute the loss and accuracy\n",
        "    loss = criterion(y_pred, y)\n",
        "    score, predicted = torch.max(y_pred, 1)\n",
        "    print(score)\n",
        "    acc = (y == predicted).sum().float() / len(y)\n",
        "    print(\"[EPOCH]: %i, [LOSS]: %.6f, [ACCURACY]: %.3f\" % (t, loss.item(), acc))\n",
        "    display.clear_output(wait=True)\n",
        "    \n",
        "    # zero the gradients before running\n",
        "    # the backward pass.\n",
        "    optimizer.zero_grad()\n",
        "    \n",
        "    # Backward pass to compute the gradient\n",
        "    # of loss w.r.t our learnable params. \n",
        "    loss.backward()\n",
        "    \n",
        "    # Update params\n",
        "    optimizer.step()"
      ],
      "execution_count": null,
      "outputs": []
    },
    {
      "cell_type": "code",
      "metadata": {
        "id": "jqpp2UOgVopc"
      },
      "source": [
        "# Plot trained model\n",
        "print(model)\n",
        "plot_model(X, y, model)"
      ],
      "execution_count": null,
      "outputs": []
    },
    {
      "cell_type": "code",
      "metadata": {
        "id": "hf9i023XVopd"
      },
      "source": [
        ""
      ],
      "execution_count": null,
      "outputs": []
    }
  ]
}